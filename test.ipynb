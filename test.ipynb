{
 "cells": [
  {
   "cell_type": "markdown",
   "id": "16274187-a997-40e6-9f3e-2c00a6786083",
   "metadata": {},
   "source": [
    "# 1. what is python and why it is popular\n",
    "- python is a general purpose programming language \n",
    "- python commonly used for developing websites and software,data analysis\n",
    "- it is popular for its versatility,beginner friendliness\n",
    "- python has simple syntax to code\n",
    "- because of simplicity of learing and utilization and it can be executed as quickly than other programming "
   ]
  },
  {
   "cell_type": "markdown",
   "id": "f6036f36-5e57-448f-ba11-5c265686be03",
   "metadata": {},
   "source": [
    "# 2. what is an ide and name a few popular python ides\n",
    "- ide is a software application that helps programmers develop software code efficiently\n",
    "- used for coding tools that make writing,debugging and testing the code easier\n",
    "popular python ides:\n",
    "1. jupyter\n",
    "2. spyder\n",
    "3. pydev\n",
    "4. pycharm\n",
    "5. visual studio code"
   ]
  },
  {
   "cell_type": "markdown",
   "id": "9f7fed43-7670-49ea-8c4a-e362dbb9ecae",
   "metadata": {},
   "source": [
    "# 3.what are the rules for naming a variable\n",
    "1. a variable can contain only alpha-numeric and underscore\n",
    "2. a variable name cant start with digits\n",
    "3. a variable name cant start with a number\n",
    "4. reserved keywords cannot be used\n",
    "5. variables naqmes are case sensitive"
   ]
  },
  {
   "cell_type": "markdown",
   "id": "e66cd2fd-dd51-433a-9ad8-23b29fb86bc0",
   "metadata": {},
   "source": [
    "# 4. how do you assign multiple values to a multople variables insingle line"
   ]
  },
  {
   "cell_type": "code",
   "execution_count": null,
   "id": "302b8996-45fe-4fe7-91d1-82910f884ed9",
   "metadata": {},
   "outputs": [],
   "source": [
    "a,b,c=1,2,3\n",
    "print(a)\n",
    "print(b)\n",
    "print(c)"
   ]
  },
  {
   "cell_type": "markdown",
   "id": "49ec5b52-f3a7-4749-8cdc-28ec201277b4",
   "metadata": {},
   "source": [
    "# 5. can use python keywords as variable\n",
    "- no python cannot use keyword as variable as they are used to perform operations and we cant consider as variable we will get an error if we use them in a variable"
   ]
  },
  {
   "cell_type": "markdown",
   "id": "1c9e088a-fa84-4941-a214-1acd04a5db3f",
   "metadata": {},
   "source": [
    "# 6.why comments important in programming\n",
    "- comments help us to understand the code better and enhance the redeability of tyhe code helps the programmers to understand the code very carefully\n",
    "- it also helps in debugging by knowing the problem better"
   ]
  },
  {
   "cell_type": "markdown",
   "id": "a04d168c-5296-48ce-af05-2f1921a9a481",
   "metadata": {},
   "source": [
    "# 7.what are basic data types in python\n",
    "- there are 4 types in python\n",
    "1. int- it represents whole numbers from minus infinity to infinity\n",
    "2. float- it represents the decinmal numbers\n",
    "3. boolean- it returns the value either true or false\n",
    "4. complex-combination of real and imaginary part"
   ]
  },
  {
   "cell_type": "markdown",
   "id": "59a40012-be8b-481b-b359-94c9a015d57d",
   "metadata": {},
   "source": [
    "# 8.how do you convert string to an integer in python\n"
   ]
  },
  {
   "cell_type": "code",
   "execution_count": null,
   "id": "bcaf80ea-acb5-4936-b136-6a3c0ebcff4b",
   "metadata": {},
   "outputs": [
    {
     "name": "stdout",
     "output_type": "stream",
     "text": [
      "23\n",
      "<class 'int'>\n"
     ]
    }
   ],
   "source": [
    "a=\"23\"\n",
    "b=int(a)\n",
    "print(b)\n",
    "print(type(b))"
   ]
  },
  {
   "cell_type": "markdown",
   "id": "13f197dc-b9c3-4351-b95e-4b4178bbe94c",
   "metadata": {},
   "source": [
    "# 9.what is the difference between int and float\n",
    "- int are non fractional numbers and float are fractional numbers\n",
    "- int are whole numbers they can be positive negative or zero where float are in decimal form they can also be posotive or negative\n",
    "- example : int=55\n",
    "- float=77.8"
   ]
  },
  {
   "cell_type": "markdown",
   "id": "dce59286-1235-499a-a068-f21a5e95999d",
   "metadata": {},
   "source": [
    "# 10. how do you check the data types are variable \n",
    "- we can check the type of variable by using type function"
   ]
  },
  {
   "cell_type": "code",
   "execution_count": null,
   "id": "3fd4e6da-b33a-47da-9f33-211e3d7bb34c",
   "metadata": {},
   "outputs": [
    {
     "name": "stdout",
     "output_type": "stream",
     "text": [
      "<class 'float'>\n"
     ]
    }
   ],
   "source": [
    "# example for type function\n",
    "a=77.8\n",
    "print(type(a))"
   ]
  },
  {
   "cell_type": "markdown",
   "id": "de37f0ae-d6ca-4a4b-b094-3ed3acc7e8cb",
   "metadata": {},
   "source": [
    "# 11.how do you add an element to a list\n",
    "- by using append() or insert()"
   ]
  },
  {
   "cell_type": "code",
   "execution_count": null,
   "id": "e4e9c010-81f8-4b6b-9b5c-e996abcea9ee",
   "metadata": {},
   "outputs": [
    {
     "name": "stdout",
     "output_type": "stream",
     "text": [
      "[1, 2, 3, 7]\n"
     ]
    }
   ],
   "source": [
    "# example\n",
    "list=[1,2,3]\n",
    "list.append(7)\n",
    "print(list)"
   ]
  },
  {
   "cell_type": "code",
   "execution_count": null,
   "id": "2722ed46-44e7-458c-9b19-fde89817f65a",
   "metadata": {},
   "outputs": [
    {
     "name": "stdout",
     "output_type": "stream",
     "text": [
      "<class 'tuple'>\n"
     ]
    }
   ],
   "source": [
    "#12.how do you create a tuple with one element\n",
    "- we have to add a comma after the item\n",
    "tuple=(\"banana\",)\n",
    "print(type(tuple))"
   ]
  },
  {
   "cell_type": "markdown",
   "id": "8da46ea3-6e2c-4da5-9b8c-189e86c08712",
   "metadata": {},
   "source": [
    "# 13. how do you access a value in a dictionary using a key\n",
    "by using []brackets "
   ]
  },
  {
   "cell_type": "markdown",
   "id": "d102bba9-a7e7-4743-9af7-911c708a47c7",
   "metadata": {},
   "source": [
    "# 14.how to access elements in a list\n",
    "- by using index method"
   ]
  },
  {
   "cell_type": "code",
   "execution_count": null,
   "id": "86d0bbb3-14b6-40ba-a2f3-6200622c15ac",
   "metadata": {},
   "outputs": [
    {
     "data": {
      "text/plain": [
       "2"
      ]
     },
     "execution_count": 62,
     "metadata": {},
     "output_type": "execute_result"
    }
   ],
   "source": [
    "a=[1,2,3,4,5]\n",
    "a[1]"
   ]
  },
  {
   "cell_type": "code",
   "execution_count": null,
   "id": "5d520109-4f1d-47a5-a047-8e765b7b5a0e",
   "metadata": {},
   "outputs": [],
   "source": [
    "# 15.how do you access a char in a string\n",
    "- by using index\n",
    "a=\"akshaya\"\n",
    "a[5]"
   ]
  },
  {
   "cell_type": "markdown",
   "id": "8c3d6d6a-442e-4875-b8f3-789ea15f03d7",
   "metadata": {},
   "source": [
    "# 16. format strings in python"
   ]
  },
  {
   "cell_type": "code",
   "execution_count": null,
   "id": "e091f566-93e0-484f-9cd7-7c0b4ea3cfd6",
   "metadata": {},
   "outputs": [
    {
     "name": "stdout",
     "output_type": "stream",
     "text": [
      "her name is akshaya she is going to nalgonda \n"
     ]
    }
   ],
   "source": [
    "name=\"akshaya\"\n",
    "place=\"nalgonda\"\n",
    "format_string=f\"her name is {name} she is going to {place} \"\n",
    "print(format_string)"
   ]
  },
  {
   "cell_type": "markdown",
   "id": "848d88d1-89b3-48ef-a7f2-431a8adbd966",
   "metadata": {},
   "source": [
    "# 17 what is tuple and how is it difference from a list?\n",
    "- a tuple is a data type that represents an ordered\n",
    "- it can be represented by paranthesis()\n",
    "- it is immutable\n",
    "- it allows duplicate\n",
    "the difference between list and tuple is\n",
    "- tuple cant be changed after they are created,but list can be modified"
   ]
  },
  {
   "cell_type": "markdown",
   "id": "fc94d780-4955-4c5d-be23-1f37c962e355",
   "metadata": {},
   "source": [
    "# 18. how do you concatenate two tuples"
   ]
  },
  {
   "cell_type": "code",
   "execution_count": null,
   "id": "9bac2d80-468e-4164-bdda-631f77d701ee",
   "metadata": {},
   "outputs": [
    {
     "name": "stdout",
     "output_type": "stream",
     "text": [
      "(1, 2, 3, 5, 6, 7)\n"
     ]
    }
   ],
   "source": [
    "tuple1=(1,2,3)\n",
    "tuple2=(5,6,7)\n",
    "tuple3=tuple1+tuple2\n",
    "print(tuple3)"
   ]
  },
  {
   "cell_type": "markdown",
   "id": "150c465e-8872-4532-a65b-1e04d4fe4a0e",
   "metadata": {},
   "source": [
    "# 19. how do you access values in a dict\n",
    "- by using {} brackets\n",
    "- by using key we can easily access values\n",
    "placing a key within [] bracket next to the dict"
   ]
  },
  {
   "cell_type": "code",
   "execution_count": null,
   "id": "d4b1c49b-cbed-4f01-922a-de9ada95fb13",
   "metadata": {},
   "outputs": [
    {
     "name": "stdout",
     "output_type": "stream",
     "text": [
      "43\n"
     ]
    }
   ],
   "source": [
    "dict={\"name\":\"mahi\",\"age\":\"43\",\"score\":\"101\"}\n",
    "a=dict[\"age\"]\n",
    "print(a)"
   ]
  },
  {
   "cell_type": "markdown",
   "id": "ae81ca76-a6e1-44e2-8d79-83872572d39a",
   "metadata": {},
   "source": [
    "# 20. how do you add a key-value pair to a dictionary?\n",
    "- dictionary holds a key:value pair\n",
    "- while using a dict we need to modify the key/value inside the dict"
   ]
  },
  {
   "cell_type": "markdown",
   "id": "f2e51cad-719d-42b4-94a7-1b256e80291b",
   "metadata": {},
   "source": [
    "# 21. how do you remove key-value pair from a dictionary"
   ]
  },
  {
   "cell_type": "code",
   "execution_count": null,
   "id": "ae77a4a0-7e59-43a8-8e22-e407602022a6",
   "metadata": {},
   "outputs": [
    {
     "name": "stdout",
     "output_type": "stream",
     "text": [
      "{'name': 'akshaya', 'grade': 'A'}\n"
     ]
    }
   ],
   "source": [
    "students={\"name\":\"akshaya\",\"age\":\"22\",\"grade\":\"A\"}\n",
    "students.pop(\"age\")\n",
    "print(students)"
   ]
  },
  {
   "cell_type": "markdown",
   "id": "b18b3228-c4f9-4fa9-8b4b-5209b2ec4e13",
   "metadata": {},
   "source": [
    "# 22.how do you add an element to a set"
   ]
  },
  {
   "cell_type": "code",
   "execution_count": null,
   "id": "1f02dca1-36f5-405f-8240-a6b78a97ba94",
   "metadata": {},
   "outputs": [
    {
     "name": "stdout",
     "output_type": "stream",
     "text": [
      "{2, 3, 4, 5, 77}\n"
     ]
    }
   ],
   "source": [
    "a={2,3,4,5}\n",
    "a.add(77)\n",
    "print(a)"
   ]
  },
  {
   "cell_type": "markdown",
   "id": "8fe7f266-8ccd-4762-9383-55e9135cf1a2",
   "metadata": {},
   "source": [
    "# 23. how do you remove an element from a set"
   ]
  },
  {
   "cell_type": "code",
   "execution_count": null,
   "id": "0abfdc81-4501-4fbe-9090-20783962ac1a",
   "metadata": {},
   "outputs": [
    {
     "name": "stdout",
     "output_type": "stream",
     "text": [
      "{2, 4, 5}\n"
     ]
    }
   ],
   "source": [
    "a={2,3,4,5}\n",
    "a.remove(3)\n",
    "print(a)"
   ]
  },
  {
   "cell_type": "code",
   "execution_count": null,
   "id": "c3656623-f44f-4e3a-91c6-0f034535ee1b",
   "metadata": {},
   "outputs": [
    {
     "name": "stdout",
     "output_type": "stream",
     "text": [
      "{2, 4, 5}\n"
     ]
    }
   ],
   "source": [
    "a={2,3,4,5}\n",
    "a.discard(3)\n",
    "print(a)"
   ]
  },
  {
   "cell_type": "markdown",
   "id": "070eec27-f904-412e-8a44-ec06a00e8c29",
   "metadata": {},
   "source": [
    "# 24. what are the common set operations in python\n",
    "there are four types;\n",
    "1. union\n",
    "2. intersection\n",
    "3. difference\n",
    "4. symmetric difference"
   ]
  },
  {
   "cell_type": "code",
   "execution_count": null,
   "id": "3e702b58-e8ae-4eab-9538-008f0faf3560",
   "metadata": {},
   "outputs": [
    {
     "name": "stdout",
     "output_type": "stream",
     "text": [
      "{1, 2, 3, 4, 5, 6, 7}\n",
      "{4}\n",
      "{1, 2, 3}\n",
      "{1, 2, 3, 5, 6, 7}\n"
     ]
    }
   ],
   "source": [
    "set1={1,2,3,4}\n",
    "set2={4,5,6,7}\n",
    "print(set1.union(set2))\n",
    "print(set1.intersection(set2))\n",
    "print(set1.difference(set2))\n",
    "print(set1.symmetric_difference(set2))"
   ]
  },
  {
   "cell_type": "markdown",
   "id": "dac8df99-34a2-4427-8fc4-8eedce558b72",
   "metadata": {},
   "source": [
    "# 25. write a python program to find the index of an element in a tuple?"
   ]
  },
  {
   "cell_type": "code",
   "execution_count": null,
   "id": "225eac03-a44c-4d96-8ad4-6e7a51d4a97c",
   "metadata": {},
   "outputs": [
    {
     "name": "stdout",
     "output_type": "stream",
     "text": [
      "3\n"
     ]
    }
   ],
   "source": [
    "a=(1,2,3,4,5)\n",
    "print(a.index(4))"
   ]
  }
 ],
 "metadata": {
  "kernelspec": {
   "display_name": "Python 3 (ipykernel)",
   "language": "python",
   "name": "python3"
  },
  "language_info": {
   "codemirror_mode": {
    "name": "ipython",
    "version": 3
   },
   "file_extension": ".py",
   "mimetype": "text/x-python",
   "name": "python",
   "nbconvert_exporter": "python",
   "pygments_lexer": "ipython3",
   "version": "3.12.4"
  }
 },
 "nbformat": 4,
 "nbformat_minor": 5
}
