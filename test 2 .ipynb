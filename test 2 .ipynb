{
 "cells": [
  {
   "cell_type": "markdown",
   "id": "84f53426-3cff-46b5-9b3b-a8aa3ceafd89",
   "metadata": {},
   "source": [
    "# 1. write the rules for creating variables\n",
    "- a variable can contain only alpha numeric charaacters and underscores\n",
    "- a variable name cant start with digits\n",
    "- a variable name cant start with a numbers or any special characters\n",
    "- reserved keywords cannot be used\n",
    "- variable names are case sensitive"
   ]
  },
  {
   "cell_type": "code",
   "execution_count": 3,
   "id": "d4a6c4d4-766a-4b99-abdd-60d0d7f51630",
   "metadata": {},
   "outputs": [
    {
     "name": "stdout",
     "output_type": "stream",
     "text": [
      "<class 'int'>\n"
     ]
    }
   ],
   "source": [
    "#2.what is type function\n",
    "#that returns the type of the data type is stored in a variable\n",
    "\n",
    "\n",
    "a=5\n",
    "print(type(a))"
   ]
  },
  {
   "cell_type": "code",
   "execution_count": null,
   "id": "60c2ffce-73fa-4ad7-a8f0-971471d64eef",
   "metadata": {},
   "outputs": [],
   "source": [
    "#3.diff between assignment \n",
    "assignment operator(=) is used for assigning value to a variable\n",
    "== checks equality of two values it will run true or false"
   ]
  },
  {
   "cell_type": "code",
   "execution_count": null,
   "id": "d7239834-9bda-4c73-9fec-c5b0a54a60cb",
   "metadata": {},
   "outputs": [],
   "source": [
    "#4.diff between mutable and immutable\n",
    "mutable means values can be changed or update or modify\n",
    "immutable values cannot be changed or cannot be upadte or we cannot modify"
   ]
  },
  {
   "cell_type": "code",
   "execution_count": 19,
   "id": "d144b993-f709-4cc6-818b-0db888dd3034",
   "metadata": {},
   "outputs": [
    {
     "name": "stdout",
     "output_type": "stream",
     "text": [
      "1\n",
      "2\n",
      "3\n",
      "4\n",
      "5\n",
      "6\n",
      "7\n",
      "8\n",
      "9\n",
      "10\n"
     ]
    }
   ],
   "source": [
    "# 5. write a python code to print first 10 natural numbers using loops\n",
    "\n",
    "for i in range(1,11):\n",
    "    print(i)"
   ]
  },
  {
   "cell_type": "code",
   "execution_count": 1,
   "id": "cd33cd91-fe48-4dd2-a893-0f9ea9a9bc29",
   "metadata": {},
   "outputs": [
    {
     "name": "stdout",
     "output_type": "stream",
     "text": [
      "1\n",
      "2\n",
      "3\n",
      "4\n",
      "5\n",
      "6\n",
      "7\n",
      "8\n",
      "9\n",
      "10\n"
     ]
    }
   ],
   "source": [
    "i=1\n",
    "while i<=10:\n",
    "    print(i)\n",
    "    i+=1"
   ]
  },
  {
   "cell_type": "code",
   "execution_count": 11,
   "id": "705ebc29-620a-4f33-993e-bc3be9f9fabe",
   "metadata": {},
   "outputs": [
    {
     "name": "stdout",
     "output_type": "stream",
     "text": [
      "sum of first 10 natural num is 1\n",
      "sum of first 10 natural num is 3\n",
      "sum of first 10 natural num is 6\n",
      "sum of first 10 natural num is 10\n",
      "sum of first 10 natural num is 15\n",
      "sum of first 10 natural num is 21\n",
      "sum of first 10 natural num is 28\n",
      "sum of first 10 natural num is 36\n",
      "sum of first 10 natural num is 45\n",
      "sum of first 10 natural num is 55\n"
     ]
    }
   ],
   "source": [
    "# 6. write a python program sum of first 10 natural numbers\n",
    "a=0\n",
    "for i in range(1,11):\n",
    "    a +=i\n",
    "    print(\"sum of first 10 natural num is\",a)"
   ]
  },
  {
   "cell_type": "code",
   "execution_count": 41,
   "id": "5b3d99ac-6769-4cd5-850b-2badc6365a86",
   "metadata": {},
   "outputs": [
    {
     "name": "stdin",
     "output_type": "stream",
     "text": [
      "enter a number 55\n"
     ]
    },
    {
     "name": "stdout",
     "output_type": "stream",
     "text": [
      "55 is prime\n"
     ]
    }
   ],
   "source": [
    "# 7. write a python program to identify given number is a prime or not\n",
    "\n",
    "a=int(input(\"enter a number\"))\n",
    "prime=True\n",
    "if prime:\n",
    "    print(a,\"is prime\")\n",
    "else:\n",
    "    print(a,\"is not prime\")"
   ]
  },
  {
   "cell_type": "code",
   "execution_count": 65,
   "id": "89f3e1ac-c262-4de3-ba0c-9439bfc7c1dd",
   "metadata": {},
   "outputs": [
    {
     "name": "stdin",
     "output_type": "stream",
     "text": [
      "enter a value 5\n"
     ]
    },
    {
     "name": "stdout",
     "output_type": "stream",
     "text": [
      "11235"
     ]
    }
   ],
   "source": [
    "# 8. write a python program first fibanoci series of a given 5 numbers\n",
    "\n",
    "fibonacci=int(input(\"enter a value\"))\n",
    "a,b=0,1\n",
    "\n",
    "for i in range(fibonacci):\n",
    "    a,b=b,a+b\n",
    "    print(a,end='')\n"
   ]
  },
  {
   "cell_type": "code",
   "execution_count": 79,
   "id": "d63e0ace-554e-435a-8549-eb4ec8dd178f",
   "metadata": {},
   "outputs": [
    {
     "name": "stdin",
     "output_type": "stream",
     "text": [
      "enter the number 4\n"
     ]
    },
    {
     "name": "stdout",
     "output_type": "stream",
     "text": [
      "factorial is 24\n"
     ]
    }
   ],
   "source": [
    "# 9. write a python program to identify factorial number of a given number \n",
    "\n",
    "a=int(input(\"enter the number\"))\n",
    "fact=1\n",
    "\n",
    "while a>0:\n",
    "    fact *= a\n",
    "    a -= 1\n",
    "print(f'factorial is {fact}')"
   ]
  },
  {
   "cell_type": "code",
   "execution_count": 61,
   "id": "8eea64c6-01fd-44e7-9214-f032c07b0515",
   "metadata": {},
   "outputs": [
    {
     "name": "stdin",
     "output_type": "stream",
     "text": [
      "table number 2\n"
     ]
    },
    {
     "name": "stdout",
     "output_type": "stream",
     "text": [
      "2 x 1=2\n",
      "2 x 2=4\n",
      "2 x 3=6\n",
      "2 x 4=8\n",
      "2 x 5=10\n",
      "2 x 6=12\n",
      "2 x 7=14\n",
      "2 x 8=16\n",
      "2 x 9=18\n",
      "2 x 10=20\n"
     ]
    }
   ],
   "source": [
    "# 10. write a python program to print multiplication table of a given number as 2\n",
    "\n",
    "number=int(input(\"table number\"))\n",
    "for i in range(1,11):\n",
    "    mul=number*i\n",
    "    print(f'{number} x {i}={mul}')"
   ]
  },
  {
   "cell_type": "code",
   "execution_count": 63,
   "id": "d3cc90df-90d9-41fc-ac0f-bfbf4b7620af",
   "metadata": {},
   "outputs": [
    {
     "name": "stdin",
     "output_type": "stream",
     "text": [
      "enter the number 66778899\n"
     ]
    },
    {
     "name": "stdout",
     "output_type": "stream",
     "text": [
      " the total number of digits are 8\n"
     ]
    }
   ],
   "source": [
    "# 11. write a python program to count total number of digits in a number\n",
    "\n",
    "num=int(input(\"enter the number\"))\n",
    "count=0\n",
    "while num>0:\n",
    "    num=num//10\n",
    "    count+=1\n",
    "\n",
    "print(f' the total number of digits are {count}')"
   ]
  },
  {
   "cell_type": "code",
   "execution_count": 57,
   "id": "0d3de1fd-b1c8-4a20-8138-eed07c5dfb3b",
   "metadata": {},
   "outputs": [
    {
     "name": "stdout",
     "output_type": "stream",
     "text": [
      "5\n",
      "4\n",
      "3\n",
      "2\n",
      "1\n"
     ]
    }
   ],
   "source": [
    "# 12. write a python program to print list in a reverse using loop ....eg[1,2,3,4,5]\n",
    "\n",
    "list=[1,2,3,4,5]\n",
    "for i in range(len(list)-1,-1,-1):\n",
    "         print(list[i])"
   ]
  },
  {
   "cell_type": "code",
   "execution_count": 43,
   "id": "48da1ed9-c3a3-45c2-94f6-482a84357b62",
   "metadata": {},
   "outputs": [
    {
     "name": "stdout",
     "output_type": "stream",
     "text": [
      "-10\n",
      "-9\n",
      "-8\n",
      "-7\n",
      "-6\n",
      "-5\n",
      "-4\n",
      "-3\n",
      "-2\n",
      "-1\n"
     ]
    }
   ],
   "source": [
    "# 13. write a python program to display from -10 to -1 using loop ....output.....-10-9-8-7-6-5-4-3-2-1\n",
    "\n",
    "for i in range(-10,0):\n",
    "    print(i)"
   ]
  }
 ],
 "metadata": {
  "kernelspec": {
   "display_name": "Python 3 (ipykernel)",
   "language": "python",
   "name": "python3"
  },
  "language_info": {
   "codemirror_mode": {
    "name": "ipython",
    "version": 3
   },
   "file_extension": ".py",
   "mimetype": "text/x-python",
   "name": "python",
   "nbconvert_exporter": "python",
   "pygments_lexer": "ipython3",
   "version": "3.12.4"
  }
 },
 "nbformat": 4,
 "nbformat_minor": 5
}
